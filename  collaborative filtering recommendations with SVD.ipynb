{
 "cells": [
  {
   "cell_type": "code",
   "execution_count": 1,
   "metadata": {
    "collapsed": true
   },
   "outputs": [],
   "source": [
    "import pandas as pd\n",
    "import numpy as np\n",
    "from surprise import Reader, Dataset, SVD, evaluate\n",
    "%matplotlib inline"
   ]
  },
  {
   "cell_type": "code",
   "execution_count": 2,
   "metadata": {
    "collapsed": true
   },
   "outputs": [],
   "source": [
    "df = pd.read_csv(\"/Users/nicholastang/Desktop/rating.csv\")"
   ]
  },
  {
   "cell_type": "code",
   "execution_count": 3,
   "metadata": {},
   "outputs": [
    {
     "data": {
      "text/html": [
       "<div>\n",
       "<style>\n",
       "    .dataframe thead tr:only-child th {\n",
       "        text-align: right;\n",
       "    }\n",
       "\n",
       "    .dataframe thead th {\n",
       "        text-align: left;\n",
       "    }\n",
       "\n",
       "    .dataframe tbody tr th {\n",
       "        vertical-align: top;\n",
       "    }\n",
       "</style>\n",
       "<table border=\"1\" class=\"dataframe\">\n",
       "  <thead>\n",
       "    <tr style=\"text-align: right;\">\n",
       "      <th></th>\n",
       "      <th>user_id</th>\n",
       "      <th>anime_id</th>\n",
       "      <th>rating</th>\n",
       "    </tr>\n",
       "  </thead>\n",
       "  <tbody>\n",
       "    <tr>\n",
       "      <th>0</th>\n",
       "      <td>1</td>\n",
       "      <td>20</td>\n",
       "      <td>-1</td>\n",
       "    </tr>\n",
       "    <tr>\n",
       "      <th>1</th>\n",
       "      <td>1</td>\n",
       "      <td>24</td>\n",
       "      <td>-1</td>\n",
       "    </tr>\n",
       "    <tr>\n",
       "      <th>2</th>\n",
       "      <td>1</td>\n",
       "      <td>79</td>\n",
       "      <td>-1</td>\n",
       "    </tr>\n",
       "    <tr>\n",
       "      <th>3</th>\n",
       "      <td>1</td>\n",
       "      <td>226</td>\n",
       "      <td>-1</td>\n",
       "    </tr>\n",
       "    <tr>\n",
       "      <th>4</th>\n",
       "      <td>1</td>\n",
       "      <td>241</td>\n",
       "      <td>-1</td>\n",
       "    </tr>\n",
       "  </tbody>\n",
       "</table>\n",
       "</div>"
      ],
      "text/plain": [
       "   user_id  anime_id  rating\n",
       "0        1        20      -1\n",
       "1        1        24      -1\n",
       "2        1        79      -1\n",
       "3        1       226      -1\n",
       "4        1       241      -1"
      ]
     },
     "execution_count": 3,
     "metadata": {},
     "output_type": "execute_result"
    }
   ],
   "source": [
    "df.head()"
   ]
  },
  {
   "cell_type": "code",
   "execution_count": 4,
   "metadata": {},
   "outputs": [
    {
     "data": {
      "text/plain": [
       "anime_id\n",
       "32281                      Kimi no Na wa.\n",
       "5114     Fullmetal Alchemist: Brotherhood\n",
       "28977                            Gintama°\n",
       "9253                          Steins;Gate\n",
       "9969                        Gintama&#039;\n",
       "Name: name, dtype: object"
      ]
     },
     "execution_count": 4,
     "metadata": {},
     "output_type": "execute_result"
    }
   ],
   "source": [
    "df_name = pd.read_csv('https://storage.googleapis.com/kaggle-datasets/571/1094/anime.csv?GoogleAccessId=web-data@kaggle-161607.iam.gserviceaccount.com&Expires=1519690840&Signature=J%2Fu4uLowUuhS9wp2TimzBzGudwbJP69SvQH5rY9Ap0GaNI9iGUz5%2Fj2BK%2BGNVBO1mYKBpUoZQrbelmz45VgEvvDBJ8NciwIkWUGkLZaSkpYidrv5GIjzzwxaAeWxF%2BycVU45IEdmc%2FdjLt25vEOlQ0W03Iq3oHm9zICRJGlMkwqkdSL7EN9FlLMqONbk%2B8R8ySZLGrnB7bRecucNCAx68giRsyqwc7uds9hbKR%2BZyJSBPXXpvuUtWFaLu1AEG0%2FLYY6CIfuaQOO40u%2FOMtpjAVNtTQyXpC6F33wMIYxybSddOJtGqY0JxMY25qnLy3gHoma0qSaQ9%2FUg4yQrxZE0BQ%3D%3D')\n",
    "df_name.set_index('anime_id', inplace = True)\n",
    "df_name = df_name['name']\n",
    "df_name.head()"
   ]
  },
  {
   "cell_type": "code",
   "execution_count": 5,
   "metadata": {},
   "outputs": [
    {
     "name": "stderr",
     "output_type": "stream",
     "text": [
      "/Users/nicholastang/anaconda3/lib/python3.6/site-packages/surprise/evaluate.py:66: UserWarning: The evaluate() method is deprecated. Please use model_selection.cross_validate() instead.\n",
      "  'model_selection.cross_validate() instead.', UserWarning)\n",
      "/Users/nicholastang/anaconda3/lib/python3.6/site-packages/surprise/dataset.py:193: UserWarning: Using data.split() or using load_from_folds() without using a CV iterator is now deprecated. \n",
      "  UserWarning)\n"
     ]
    },
    {
     "name": "stdout",
     "output_type": "stream",
     "text": [
      "Evaluating RMSE, MAE of algorithm SVD.\n",
      "\n",
      "------------\n",
      "Fold 1\n",
      "RMSE: 3.3028\n",
      "MAE:  2.9855\n",
      "------------\n",
      "Fold 2\n",
      "RMSE: 3.3182\n",
      "MAE:  3.0053\n",
      "------------\n",
      "Fold 3\n",
      "RMSE: 3.3096\n",
      "MAE:  2.9955\n",
      "------------\n",
      "------------\n",
      "Mean RMSE: 3.3102\n",
      "Mean MAE : 2.9954\n",
      "------------\n",
      "------------\n"
     ]
    },
    {
     "data": {
      "text/plain": [
       "CaseInsensitiveDefaultDict(list,\n",
       "                           {'mae': [2.9854538014250243,\n",
       "                             3.0052643899541938,\n",
       "                             2.9955460362526276],\n",
       "                            'rmse': [3.3027820272475825,\n",
       "                             3.3181854745093053,\n",
       "                             3.3095717722483884]})"
      ]
     },
     "execution_count": 5,
     "metadata": {},
     "output_type": "execute_result"
    }
   ],
   "source": [
    "reader = Reader()\n",
    "\n",
    "# get just top 100K rows for faster run time\n",
    "data = Dataset.load_from_df(df[['user_id', 'anime_id', 'rating']][:100000], reader)\n",
    "data.split(n_folds=3)\n",
    "\n",
    "svd = SVD()\n",
    "evaluate(svd, data, measures=['RMSE', 'MAE'])"
   ]
  },
  {
   "cell_type": "code",
   "execution_count": 6,
   "metadata": {},
   "outputs": [
    {
     "data": {
      "text/plain": [
       "anime_id\n",
       "1                                          Cowboy Bebop\n",
       "5                       Cowboy Bebop: Tengoku no Tobira\n",
       "6                                                Trigun\n",
       "33                                              Berserk\n",
       "72                            Full Metal Panic? Fumoffu\n",
       "96                              Mobile Fighter G Gundam\n",
       "166                                           Samurai 7\n",
       "202                                    Wolf&#039;s Rain\n",
       "205                                    Samurai Champloo\n",
       "239                                          Gankutsuou\n",
       "240                                           Genshiken\n",
       "617                                   Juubee Ninpuuchou\n",
       "777                                   Hellsing Ultimate\n",
       "1535                                         Death Note\n",
       "1575                    Code Geass: Hangyaku no Lelouch\n",
       "1587                       Tenpou Ibun: Ayakashi Ayashi\n",
       "1813                                      Genshiken OVA\n",
       "1860                   Tokyo Majin Gakuen Kenpucho: Tou\n",
       "2001                         Tengen Toppa Gurren Lagann\n",
       "2025              Darker than Black: Kuro no Keiyakusha\n",
       "2508                                        Genshiken 2\n",
       "2593                    Kara no Kyoukai 1: Fukan Fuukei\n",
       "2683       Tokyo Majin Gakuen Kenpucho: Tou Dai Ni Maku\n",
       "2904                 Code Geass: Hangyaku no Lelouch R2\n",
       "2952        Final Fantasy VII: Advent Children Complete\n",
       "3342               Mnemosyne: Mnemosyne no Musume-tachi\n",
       "3782         Kara no Kyoukai 2: Satsujin Kousatsu (Zen)\n",
       "3783                Kara no Kyoukai 3: Tsuukaku Zanryuu\n",
       "4280                    Kara no Kyoukai 4: Garan no Dou\n",
       "4282                     Kara no Kyoukai 5: Mujun Rasen\n",
       "4898                                       Kuroshitsuji\n",
       "5114                   Fullmetal Alchemist: Brotherhood\n",
       "5204                 Kara no Kyoukai 6: Boukyaku Rokuon\n",
       "5205         Kara no Kyoukai 7: Satsujin Kousatsu (Kou)\n",
       "5355                                     Sengoku Basara\n",
       "6707                                    Kuroshitsuji II\n",
       "7338       Darker than Black: Kuro no Keiyakusha Gaiden\n",
       "10218       Berserk: Ougon Jidai-hen I - Haou no Tamago\n",
       "12113    Berserk: Ougon Jidai-hen II - Doldrey Kouryaku\n",
       "12115             Berserk: Ougon Jidai-hen III - Kourin\n",
       "22145                      Kuroshitsuji: Book of Circus\n",
       "Name: name, dtype: object"
      ]
     },
     "execution_count": 6,
     "metadata": {},
     "output_type": "execute_result"
    }
   ],
   "source": [
    "df_73515 = df[(df['user_id'] == 73515) & (df['rating'] == 10)]\n",
    "df_73515 = df_73515.set_index('anime_id')\n",
    "df_73515 = df_73515.join(df_name)['name']\n",
    "df_73515"
   ]
  },
  {
   "cell_type": "code",
   "execution_count": 7,
   "metadata": {},
   "outputs": [
    {
     "name": "stderr",
     "output_type": "stream",
     "text": [
      "/Users/nicholastang/anaconda3/lib/python3.6/site-packages/surprise/prediction_algorithms/algo_base.py:51: UserWarning: train() is deprecated. Use fit() instead\n",
      "  warnings.warn('train() is deprecated. Use fit() instead', UserWarning)\n"
     ]
    },
    {
     "data": {
      "text/html": [
       "<div>\n",
       "<style>\n",
       "    .dataframe thead tr:only-child th {\n",
       "        text-align: right;\n",
       "    }\n",
       "\n",
       "    .dataframe thead th {\n",
       "        text-align: left;\n",
       "    }\n",
       "\n",
       "    .dataframe tbody tr th {\n",
       "        vertical-align: top;\n",
       "    }\n",
       "</style>\n",
       "<table border=\"1\" class=\"dataframe\">\n",
       "  <thead>\n",
       "    <tr style=\"text-align: right;\">\n",
       "      <th></th>\n",
       "      <th>name</th>\n",
       "      <th>Estimate_Score</th>\n",
       "    </tr>\n",
       "  </thead>\n",
       "  <tbody>\n",
       "    <tr>\n",
       "      <th>0</th>\n",
       "      <td>Kimi no Na wa.</td>\n",
       "      <td>5.0</td>\n",
       "    </tr>\n",
       "    <tr>\n",
       "      <th>8201</th>\n",
       "      <td>Baku Tech! Bakugan Gachi: Tokubetsu-hen</td>\n",
       "      <td>5.0</td>\n",
       "    </tr>\n",
       "    <tr>\n",
       "      <th>8192</th>\n",
       "      <td>Backstage Idol Story</td>\n",
       "      <td>5.0</td>\n",
       "    </tr>\n",
       "    <tr>\n",
       "      <th>8193</th>\n",
       "      <td>Bad Badtz-Maru no Ari to Kirigirisu</td>\n",
       "      <td>5.0</td>\n",
       "    </tr>\n",
       "    <tr>\n",
       "      <th>8194</th>\n",
       "      <td>Bad Badtz-Maru no Ookami ga Kita!</td>\n",
       "      <td>5.0</td>\n",
       "    </tr>\n",
       "    <tr>\n",
       "      <th>8195</th>\n",
       "      <td>Bad Badtz-Maru no Ore no Pochi wa Sekaiichi</td>\n",
       "      <td>5.0</td>\n",
       "    </tr>\n",
       "    <tr>\n",
       "      <th>8196</th>\n",
       "      <td>Bad Badtz-Maru no Ore wa Yuutousei</td>\n",
       "      <td>5.0</td>\n",
       "    </tr>\n",
       "    <tr>\n",
       "      <th>8197</th>\n",
       "      <td>Bad Badtz-Maru no Otoko Dokyou no Omoiyari</td>\n",
       "      <td>5.0</td>\n",
       "    </tr>\n",
       "    <tr>\n",
       "      <th>8198</th>\n",
       "      <td>Baka Mukashibanashi Movie: Jijii Wars</td>\n",
       "      <td>5.0</td>\n",
       "    </tr>\n",
       "    <tr>\n",
       "      <th>8199</th>\n",
       "      <td>Bakabon Osomatsu no Karee wo Tazunete Sansenri</td>\n",
       "      <td>5.0</td>\n",
       "    </tr>\n",
       "  </tbody>\n",
       "</table>\n",
       "</div>"
      ],
      "text/plain": [
       "                                                name  Estimate_Score\n",
       "0                                     Kimi no Na wa.             5.0\n",
       "8201         Baku Tech! Bakugan Gachi: Tokubetsu-hen             5.0\n",
       "8192                            Backstage Idol Story             5.0\n",
       "8193             Bad Badtz-Maru no Ari to Kirigirisu             5.0\n",
       "8194               Bad Badtz-Maru no Ookami ga Kita!             5.0\n",
       "8195     Bad Badtz-Maru no Ore no Pochi wa Sekaiichi             5.0\n",
       "8196              Bad Badtz-Maru no Ore wa Yuutousei             5.0\n",
       "8197      Bad Badtz-Maru no Otoko Dokyou no Omoiyari             5.0\n",
       "8198           Baka Mukashibanashi Movie: Jijii Wars             5.0\n",
       "8199  Bakabon Osomatsu no Karee wo Tazunete Sansenri             5.0"
      ]
     },
     "execution_count": 7,
     "metadata": {},
     "output_type": "execute_result"
    }
   ],
   "source": [
    "user_73515 = df_name.copy()\n",
    "user_73515 = user_73515.reset_index()\n",
    "\n",
    "# getting full dataset\n",
    "data = Dataset.load_from_df(df[['user_id', 'anime_id', 'rating']][:100000], reader)\n",
    "\n",
    "trainset = data.build_full_trainset()\n",
    "svd.train(trainset)\n",
    "\n",
    "user_73515['Estimate_Score'] = user_73515['anime_id'].apply(lambda x: svd.predict(73515, x).est)\n",
    "\n",
    "user_73515 = user_73515.drop('anime_id', axis = 1)\n",
    "\n",
    "user_73515 = user_73515.sort_values('Estimate_Score', ascending=False)\n",
    "user_73515.head(10)"
   ]
  },
  {
   "cell_type": "code",
   "execution_count": null,
   "metadata": {
    "collapsed": true
   },
   "outputs": [],
   "source": []
  }
 ],
 "metadata": {
  "kernelspec": {
   "display_name": "Python 3",
   "language": "python",
   "name": "python3"
  },
  "language_info": {
   "codemirror_mode": {
    "name": "ipython",
    "version": 3
   },
   "file_extension": ".py",
   "mimetype": "text/x-python",
   "name": "python",
   "nbconvert_exporter": "python",
   "pygments_lexer": "ipython3",
   "version": "3.6.2"
  },
  "toc": {
   "nav_menu": {},
   "number_sections": true,
   "sideBar": true,
   "skip_h1_title": false,
   "title_cell": "Table of Contents",
   "title_sidebar": "Contents",
   "toc_cell": false,
   "toc_position": {},
   "toc_section_display": true,
   "toc_window_display": false
  }
 },
 "nbformat": 4,
 "nbformat_minor": 2
}
